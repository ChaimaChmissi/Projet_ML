{
 "cells": [
  {
   "cell_type": "code",
   "execution_count": 1,
   "id": "758260e6",
   "metadata": {},
   "outputs": [],
   "source": [
    "import pandas as pd\n",
    "import numpy as np\n",
    "import matplotlib.pyplot as plt\n",
    "import seaborn as sns\n",
    "\n",
    "# Colonnes extraites de adult.names\n",
    "columns = [\n",
    "    'age', 'workclass', 'fnlwgt', 'education', 'education-num', 'marital-status',\n",
    "    'occupation', 'relationship', 'race', 'sex', 'capital-gain', 'capital-loss',\n",
    "    'hours-per-week', 'native-country', 'income'\n",
    "]\n",
    "\n",
    "# Charger le fichier d'entraînement\n",
    "df_train = pd.read_csv(\"adult/adult.data\", names=columns, sep=',', skipinitialspace=True)\n",
    "\n",
    "# Charger le fichier de test\n",
    "df_test = pd.read_csv(\"adult/adult.test\", names=columns, sep=',', skipinitialspace=True, skiprows=1)\n",
    "\n",
    "# Concaténer les deux fichiers pour une base unique\n",
    "df = pd.concat([df_train, df_test], ignore_index=True)\n",
    "\n",
    "\n",
    "# Nettoyage income (supprimer le point à la fin pour les données test)\n",
    "#df['income'] = df['income'].apply(lambda x: x.replace('.', '') if isinstance(x, str) else x)\n"
   ]
  },
  {
   "cell_type": "code",
   "execution_count": null,
   "id": "f65894bd",
   "metadata": {},
   "outputs": [],
   "source": [
    "# Taille\n",
    "print(\"Nombre de lignes :\", df.shape[0])\n",
    "print(\"Nombre de colonnes :\", df.shape[1])\n",
    "# Types\n",
    "print(\"\\nTypes des colonnes :\\n\", df.dtypes)"
   ]
  },
  {
   "cell_type": "code",
   "execution_count": null,
   "id": "c1937ba7",
   "metadata": {},
   "outputs": [],
   "source": [
    "# Aperçu\n",
    "df.head()"
   ]
  },
  {
   "cell_type": "code",
   "execution_count": null,
   "id": "6a04c30a",
   "metadata": {},
   "outputs": [],
   "source": [
    "df.describe(include='all')"
   ]
  },
  {
   "cell_type": "code",
   "execution_count": null,
   "id": "9df3b599",
   "metadata": {},
   "outputs": [],
   "source": [
    "df.replace('?', np.nan, inplace=True)\n",
    "\n",
    "print(df.isnull().sum())"
   ]
  },
  {
   "cell_type": "code",
   "execution_count": null,
   "id": "affad1cb",
   "metadata": {},
   "outputs": [],
   "source": [
    "import matplotlib.pyplot as plt\n",
    "\n",
    "# Calcul du nombre de valeurs manquantes par colonne\n",
    "missing_counts = df.isnull().sum()\n",
    "missing_counts = missing_counts[missing_counts > 0]\n",
    "\n",
    "# Affichage graphique\n",
    "plt.figure(figsize=(10, 5))\n",
    "missing_counts.sort_values().plot(kind='barh', color='coral')\n",
    "print(\"Colonnes avec valeurs manquantes :\")\n",
    "print(missing_counts)\n",
    "\n",
    "plt.title(\"Valeurs manquantes par colonne\")\n",
    "plt.xlabel(\"Nombre de valeurs manquantes\")\n",
    "plt.ylabel(\"Colonnes\")\n",
    "plt.grid(axis='x', linestyle='--', alpha=0.7)\n",
    "plt.tight_layout()\n",
    "plt.show()"
   ]
  },
  {
   "cell_type": "code",
   "execution_count": null,
   "id": "cdbc542b",
   "metadata": {},
   "outputs": [],
   "source": [
    "print(f\"Nombre de doublons : {df.duplicated().sum()}\")"
   ]
  }
 ],
 "metadata": {
  "kernelspec": {
   "display_name": "base",
   "language": "python",
   "name": "python3"
  },
  "language_info": {
   "codemirror_mode": {
    "name": "ipython",
    "version": 3
   },
   "file_extension": ".py",
   "mimetype": "text/x-python",
   "name": "python",
   "nbconvert_exporter": "python",
   "pygments_lexer": "ipython3",
   "version": "3.12.4"
  }
 },
 "nbformat": 4,
 "nbformat_minor": 5
}

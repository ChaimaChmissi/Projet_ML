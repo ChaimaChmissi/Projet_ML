{
 "cells": [
  {
   "cell_type": "code",
   "execution_count": 1,
   "id": "758260e6",
   "metadata": {},
   "outputs": [],
   "source": [
    "import pandas as pd\n",
    "import numpy as np\n",
    "import matplotlib.pyplot as plt\n",
    "import seaborn as sns\n",
    "\n",
    "# Colonnes extraites de adult.names\n",
    "columns = [\n",
    "    'age', 'workclass', 'fnlwgt', 'education', 'education-num', 'marital-status',\n",
    "    'occupation', 'relationship', 'race', 'sex', 'capital-gain', 'capital-loss',\n",
    "    'hours-per-week', 'native-country', 'income'\n",
    "]\n",
    "\n",
    "# Charger le fichier d'entraînement\n",
    "df_train = pd.read_csv(\"adult/adult.data\", names=columns, sep=',', skipinitialspace=True)\n",
    "\n",
    "# Charger le fichier de test\n",
    "df_test = pd.read_csv(\"adult/adult.test\", names=columns, sep=',', skipinitialspace=True, skiprows=1)\n",
    "\n",
    "# Concaténer les deux fichiers pour une base unique\n",
    "df = pd.concat([df_train, df_test], ignore_index=True)\n",
    "\n",
    "\n",
    "# Nettoyage income (supprimer le point à la fin pour les données test)\n",
    "#df['income'] = df['income'].apply(lambda x: x.replace('.', '') if isinstance(x, str) else x)\n"
   ]
  }
 ],
 "metadata": {
  "kernelspec": {
   "display_name": "base",
   "language": "python",
   "name": "python3"
  },
  "language_info": {
   "codemirror_mode": {
    "name": "ipython",
    "version": 3
   },
   "file_extension": ".py",
   "mimetype": "text/x-python",
   "name": "python",
   "nbconvert_exporter": "python",
   "pygments_lexer": "ipython3",
   "version": "3.12.4"
  }
 },
 "nbformat": 4,
 "nbformat_minor": 5
}
